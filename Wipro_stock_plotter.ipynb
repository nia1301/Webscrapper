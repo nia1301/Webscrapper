{
 "cells": [
  {
   "cell_type": "code",
   "execution_count": 1,
   "id": "9b5b4019-3a03-4730-8f49-eb34c5eec1ce",
   "metadata": {},
   "outputs": [],
   "source": [
    "# Import StringIO for reading and writing to in-memory text streams\n",
    "from io import StringIO\n",
    "\n",
    "# Import requests for making HTTP requests to web pages\n",
    "import requests\n",
    "\n",
    "\n",
    "import pandas as pd\n",
    "\n",
    "# Import datetime and timedelta for working with dates and times\n",
    "from  datetime import datetime , timedelta\n",
    "\n",
    "# Import BeautifulSoup for parsing HTML and XML documents\n",
    "import bs4"
   ]
  },
  {
   "cell_type": "code",
   "execution_count": 2,
   "id": "c51e2472-ff61-4c5e-b0a8-232c98f35b50",
   "metadata": {},
   "outputs": [],
   "source": [
    "# Create a new requests session for making HTTP requests\n",
    "session = requests.session()\n",
    "\n",
    "# Define a dictionary of default headers for HTTP requests\n",
    "headers = {\n",
    "    \"user-agent\": \"Chrome/87.0.4280.88\"\n",
    "}\n",
    "\n",
    "# Define a dictionary of headers for Chrome browser simulation\n",
    "head = {\n",
    "    'user-agent': \"Mozilla/5.0 (Windows NT 10.0; Win64; x64) AppleWebKit/537.36 (KHTML, like Gecko) \"\n",
    "                  \"Chrome/87.0.4280.88 Safari/537.36 \"\n",
    "}\n"
   ]
  },
  {
   "cell_type": "code",
   "execution_count": 81,
   "id": "ade1fb64-7d1b-44de-9e43-40355233504e",
   "metadata": {},
   "outputs": [],
   "source": [
    "#Function for scrapping historical data from www.nseindia.com\n",
    "\n",
    "def getHistoryData(company, from_date=(datetime.today().strftime(\"%d-%m-%Y\")), to_date=(datetime(datetime.today().year - 1, datetime.today().month,datetime.today().day).strftime(\"%d-%m-%Y\"))):\n",
    "    session.get(\"https://www.nseindia.com\", headers=head)\n",
    "    session.get(\"https://www.nseindia.com/get-quotes/equity?symbol=\" + company, headers=head)  # to save cookies\n",
    "    session.get(\"https://www.nseindia.com/api/historical/cm/equity?symbol=\"+company, headers=head)\n",
    "    url = \"https://www.nseindia.com/api/historical/cm/equity?symbol=\" + company + \"&series=[%22EQ%22]&from=\" + from_date + \"&to=\" + to_date + \"&csv=true\"\n",
    "    webdata = session.get(url=url, headers=head)\n",
    "    df = pd.read_csv(StringIO(webdata.text[3:]))\n",
    "    return df"
   ]
  },
  {
   "cell_type": "code",
   "execution_count": 82,
   "id": "334a6719-04a1-4949-9c9d-a58b70db6a01",
   "metadata": {},
   "outputs": [],
   "source": [
    "# Retrieve historical data for WIPRO stock from 30-04-2023 to 30-04-2024\n",
    "data1 = getHistoryData('WIPRO',from_date='30-04-2023',to_date='30-04-2024')\n",
    "data1.to_csv('wipro_data.csv', index=False)"
   ]
  },
  {
   "cell_type": "code",
   "execution_count": null,
   "id": "174674c0-fe9a-4748-a9fd-45afbe9354a2",
   "metadata": {},
   "outputs": [],
   "source": [
    "len(data1) #Check length of dataset"
   ]
  },
  {
   "cell_type": "code",
   "execution_count": 56,
   "id": "38ff35b7-5fb5-4c2c-ba40-654051a3b799",
   "metadata": {},
   "outputs": [
    {
     "data": {
      "text/html": [
       "<div>\n",
       "<style scoped>\n",
       "    .dataframe tbody tr th:only-of-type {\n",
       "        vertical-align: middle;\n",
       "    }\n",
       "\n",
       "    .dataframe tbody tr th {\n",
       "        vertical-align: top;\n",
       "    }\n",
       "\n",
       "    .dataframe thead th {\n",
       "        text-align: right;\n",
       "    }\n",
       "</style>\n",
       "<table border=\"1\" class=\"dataframe\">\n",
       "  <thead>\n",
       "    <tr style=\"text-align: right;\">\n",
       "      <th></th>\n",
       "      <th>Date</th>\n",
       "      <th>series</th>\n",
       "      <th>OPEN</th>\n",
       "      <th>HIGH</th>\n",
       "      <th>LOW</th>\n",
       "      <th>PREV. CLOSE</th>\n",
       "      <th>ltp</th>\n",
       "      <th>close</th>\n",
       "      <th>vwap</th>\n",
       "      <th>52W H</th>\n",
       "      <th>52W L</th>\n",
       "      <th>VOLUME</th>\n",
       "      <th>VALUE</th>\n",
       "      <th>No of trades</th>\n",
       "    </tr>\n",
       "  </thead>\n",
       "  <tbody>\n",
       "    <tr>\n",
       "      <th>0</th>\n",
       "      <td>30-Apr-2024</td>\n",
       "      <td>EQ</td>\n",
       "      <td>463.00</td>\n",
       "      <td>466.75</td>\n",
       "      <td>461.5</td>\n",
       "      <td>462.95</td>\n",
       "      <td>462.40</td>\n",
       "      <td>462.40</td>\n",
       "      <td>463.91</td>\n",
       "      <td>545.9</td>\n",
       "      <td>375.05</td>\n",
       "      <td>44,51,478</td>\n",
       "      <td>2,06,50,64,238.45</td>\n",
       "      <td>72,568</td>\n",
       "    </tr>\n",
       "    <tr>\n",
       "      <th>1</th>\n",
       "      <td>29-Apr-2024</td>\n",
       "      <td>EQ</td>\n",
       "      <td>467.65</td>\n",
       "      <td>468.00</td>\n",
       "      <td>461.6</td>\n",
       "      <td>464.60</td>\n",
       "      <td>463.30</td>\n",
       "      <td>462.95</td>\n",
       "      <td>463.59</td>\n",
       "      <td>545.9</td>\n",
       "      <td>375.05</td>\n",
       "      <td>36,24,970</td>\n",
       "      <td>1,68,04,89,736.85</td>\n",
       "      <td>68,000</td>\n",
       "    </tr>\n",
       "    <tr>\n",
       "      <th>2</th>\n",
       "      <td>26-Apr-2024</td>\n",
       "      <td>EQ</td>\n",
       "      <td>461.90</td>\n",
       "      <td>475.80</td>\n",
       "      <td>461.6</td>\n",
       "      <td>461.00</td>\n",
       "      <td>465.15</td>\n",
       "      <td>464.60</td>\n",
       "      <td>469.20</td>\n",
       "      <td>545.9</td>\n",
       "      <td>370.55</td>\n",
       "      <td>1,07,39,147</td>\n",
       "      <td>5,03,88,08,647.80</td>\n",
       "      <td>1,69,644</td>\n",
       "    </tr>\n",
       "    <tr>\n",
       "      <th>3</th>\n",
       "      <td>25-Apr-2024</td>\n",
       "      <td>EQ</td>\n",
       "      <td>458.90</td>\n",
       "      <td>462.55</td>\n",
       "      <td>455.8</td>\n",
       "      <td>459.90</td>\n",
       "      <td>461.65</td>\n",
       "      <td>461.00</td>\n",
       "      <td>460.46</td>\n",
       "      <td>545.9</td>\n",
       "      <td>370.55</td>\n",
       "      <td>59,02,545</td>\n",
       "      <td>2,71,79,00,740.60</td>\n",
       "      <td>1,11,925</td>\n",
       "    </tr>\n",
       "    <tr>\n",
       "      <th>4</th>\n",
       "      <td>24-Apr-2024</td>\n",
       "      <td>EQ</td>\n",
       "      <td>463.90</td>\n",
       "      <td>464.65</td>\n",
       "      <td>458.6</td>\n",
       "      <td>462.10</td>\n",
       "      <td>460.95</td>\n",
       "      <td>459.90</td>\n",
       "      <td>461.58</td>\n",
       "      <td>545.9</td>\n",
       "      <td>370.55</td>\n",
       "      <td>29,57,584</td>\n",
       "      <td>1,36,51,54,814.05</td>\n",
       "      <td>58,214</td>\n",
       "    </tr>\n",
       "  </tbody>\n",
       "</table>\n",
       "</div>"
      ],
      "text/plain": [
       "         Date  series    OPEN    HIGH    LOW   PREV. CLOSE     ltp   close   \\\n",
       "0  30-Apr-2024      EQ  463.00  466.75  461.5        462.95  462.40  462.40   \n",
       "1  29-Apr-2024      EQ  467.65  468.00  461.6        464.60  463.30  462.95   \n",
       "2  26-Apr-2024      EQ  461.90  475.80  461.6        461.00  465.15  464.60   \n",
       "3  25-Apr-2024      EQ  458.90  462.55  455.8        459.90  461.65  461.00   \n",
       "4  24-Apr-2024      EQ  463.90  464.65  458.6        462.10  460.95  459.90   \n",
       "\n",
       "    vwap   52W H   52W L       VOLUME              VALUE  No of trades   \n",
       "0  463.91   545.9  375.05    44,51,478  2,06,50,64,238.45        72,568  \n",
       "1  463.59   545.9  375.05    36,24,970  1,68,04,89,736.85        68,000  \n",
       "2  469.20   545.9  370.55  1,07,39,147  5,03,88,08,647.80      1,69,644  \n",
       "3  460.46   545.9  370.55    59,02,545  2,71,79,00,740.60      1,11,925  \n",
       "4  461.58   545.9  370.55    29,57,584  1,36,51,54,814.05        58,214  "
      ]
     },
     "execution_count": 56,
     "metadata": {},
     "output_type": "execute_result"
    }
   ],
   "source": [
    "data1.head() #Display the first 5 observation"
   ]
  },
  {
   "cell_type": "code",
   "execution_count": 61,
   "id": "d0d32781-f87a-4f47-8c36-3a18d8873b70",
   "metadata": {},
   "outputs": [
    {
     "name": "stdout",
     "output_type": "stream",
     "text": [
      "<class 'pandas.core.frame.DataFrame'>\n",
      "RangeIndex: 249 entries, 0 to 248\n",
      "Data columns (total 14 columns):\n",
      " #   Column         Non-Null Count  Dtype  \n",
      "---  ------         --------------  -----  \n",
      " 0   Date           249 non-null    object \n",
      " 1   series         249 non-null    object \n",
      " 2   OPEN           249 non-null    float64\n",
      " 3   HIGH           249 non-null    float64\n",
      " 4   LOW            249 non-null    float64\n",
      " 5   PREV. CLOSE    249 non-null    float64\n",
      " 6   ltp            249 non-null    float64\n",
      " 7   close          249 non-null    float64\n",
      " 8   vwap           249 non-null    float64\n",
      " 9   52W H          249 non-null    float64\n",
      " 10  52W L          249 non-null    float64\n",
      " 11  VOLUME         249 non-null    object \n",
      " 12  VALUE          249 non-null    object \n",
      " 13  No of trades   249 non-null    object \n",
      "dtypes: float64(9), object(5)\n",
      "memory usage: 27.4+ KB\n"
     ]
    }
   ],
   "source": [
    "data1.info() #Display basic information of the dataset"
   ]
  },
  {
   "cell_type": "code",
   "execution_count": 70,
   "id": "8c6d8175-b606-42cf-9fc8-6559a51e370c",
   "metadata": {},
   "outputs": [
    {
     "data": {
      "text/plain": [
       "Index(['Date ', 'series ', 'OPEN ', 'HIGH ', 'LOW ', 'PREV. CLOSE ', 'ltp ',\n",
       "       'close ', 'vwap ', '52W H ', '52W L ', 'VOLUME ', 'VALUE ',\n",
       "       'No of trades '],\n",
       "      dtype='object')"
      ]
     },
     "execution_count": 70,
     "metadata": {},
     "output_type": "execute_result"
    }
   ],
   "source": [
    "data1.columns"
   ]
  },
  {
   "cell_type": "code",
   "execution_count": 71,
   "id": "55e17ed0-5cc2-46f2-8920-84c05dea6344",
   "metadata": {},
   "outputs": [
    {
     "data": {
      "text/plain": [
       "RangeIndex(start=0, stop=249, step=1)"
      ]
     },
     "execution_count": 71,
     "metadata": {},
     "output_type": "execute_result"
    }
   ],
   "source": [
    "data1.index"
   ]
  },
  {
   "cell_type": "code",
   "execution_count": 78,
   "id": "b9c4da6a-8814-491a-b769-0b6ceb3e4ea7",
   "metadata": {},
   "outputs": [
    {
     "data": {
      "image/png": "[encoded data removed]",
      "text/plain": [
       "<Figure size 1000x600 with 1 Axes>"
      ]
     },
     "metadata": {},
     "output_type": "display_data"
    }
   ],
   "source": [
    "#Plot the data\n",
    "\n",
    "plt.figure(figsize=(10, 6))\n",
    "plt.plot(data1['Date '], data1['close '], label='Close Price')\n",
    "plt.title('Stock Price Over Time')\n",
    "plt.xlabel('Date')\n",
    "plt.ylabel('Close')\n",
    "plt.legend()\n",
    "plt.show()\n",
    "\t\t"
   ]
  },
  {
   "cell_type": "code",
   "execution_count": 83,
   "id": "e7e4f006-7909-43ec-9ce1-951ad1902439",
   "metadata": {},
   "outputs": [
    {
     "data": {
      "text/plain": [
       "<Figure size 640x480 with 0 Axes>"
      ]
     },
     "metadata": {},
     "output_type": "display_data"
    }
   ],
   "source": [
    "# Save the plot to a file\n",
    "plt.savefig('wipro_stock_price.png')"
   ]
  },
  {
   "cell_type": "code",
   "execution_count": null,
   "id": "5951cf51-ffdd-491c-846d-bf142fb8c885",
   "metadata": {},
   "outputs": [],
   "source": []
  }
 ],
 "metadata": {
  "kernelspec": {
   "display_name": "Python 3 (ipykernel)",
   "language": "python",
   "name": "python3"
  },
  "language_info": {
   "codemirror_mode": {
    "name": "ipython",
    "version": 3
   },
   "file_extension": ".py",
   "mimetype": "text/x-python",
   "name": "python",
   "nbconvert_exporter": "python",
   "pygments_lexer": "ipython3",
   "version": "3.11.3"
  }
 },
 "nbformat": 4,
 "nbformat_minor": 5
}
